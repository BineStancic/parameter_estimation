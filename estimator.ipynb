{
 "cells": [
  {
   "cell_type": "markdown",
   "metadata": {},
   "source": [
    "# PDAML Project 3: Parameter Estimation"
   ]
  },
  {
   "cell_type": "markdown",
   "metadata": {},
   "source": [
    "# Part 1"
   ]
  },
  {
   "cell_type": "code",
   "execution_count": 190,
   "metadata": {},
   "outputs": [],
   "source": [
    "import numpy as np\n",
    "import matplotlib.pyplot as plt\n",
    "from scipy.optimize import minimize\n",
    "import math\n",
    "from iminuit import Minuit\n",
    "from scipy.integrate import quad\n"
   ]
  },
  {
   "cell_type": "code",
   "execution_count": 2,
   "metadata": {},
   "outputs": [],
   "source": [
    "#IMPLEMEND DISS CLASSES LATER\n",
    "#class fits:\n",
    "\n",
    "    #Construct everything thats needed\n",
    "#    def __init__(self, m, V, tau, imax):\n",
    "#        self.m = m\n",
    "#        self.V = V\n",
    "#        self.tau = tau\n",
    "#        self.t_max = t_max\n",
    "#        self.theta\n",
    "#        self.imax = imax"
   ]
  },
  {
   "cell_type": "code",
   "execution_count": 259,
   "metadata": {},
   "outputs": [],
   "source": [
    "def PDF(t):\n",
    "    return ((1 + v * np.sin(m*t))*np.exp(-t/tau))\n",
    "\n",
    "def function():\n",
    "    A = quad(lambda t: PDF(t), 0, 10)\n",
    "    A = A[0]\n",
    "    return A\n",
    "    \n",
    "norm = function()\n",
    "\n",
    "def PDF_norm(t):\n",
    "    return ((1 + v * np.sin(m*t))*np.exp(-t/tau)/norm)\n",
    "\n",
    "#use quad to norm * 1/tau"
   ]
  },
  {
   "cell_type": "code",
   "execution_count": 260,
   "metadata": {},
   "outputs": [],
   "source": [
    "def MC(tmin,tmax,imax):#,vmin,vmax):\n",
    "    ymax = 1.1\n",
    "    times_array = []\n",
    "    #estim_v_array = []\n",
    "    \n",
    "    t = [np.random.uniform(tmin,tmax) for _ in range(imax)]\n",
    "    #estim_v = [np.random.uniform(vmin,vmax) for _ in range(imax)]\n",
    "    \n",
    "    y1 = np.zeros(imax)\n",
    "    y2 = np.zeros(imax)\n",
    "    for i in range(imax):\n",
    "        y1[i] = PDF_norm(t[i])\n",
    "        y2[i] = ymax*np.random.uniform()\n",
    "\n",
    "    i = 0\n",
    "    j = 0\n",
    "    while i < (imax):\n",
    "        while j < (imax):\n",
    "            if (y2[i]<y1[j]):\n",
    "                #print(i,j)\n",
    "                times_array.append(t[i])\n",
    "                #estim_v_array.append(estim_v[i])\n",
    "                i = i + 1\n",
    "                j = j + 1\n",
    "            \n",
    "            else:\n",
    "                t[i] = np.random.uniform(tmin, tmax)\n",
    "                #estim_v[i] = np.random.uniform(vmin,vmax)\n",
    "                y1[i] = PDF_norm(t[i])\n",
    "                y2[i] = ymax*np.random.uniform()\n",
    "                i = i\n",
    "                j = j\n",
    "    \n",
    "    return times_array#, estim_v_array\n",
    "    "
   ]
  },
  {
   "cell_type": "code",
   "execution_count": 261,
   "metadata": {},
   "outputs": [
    {
     "name": "stdout",
     "output_type": "stream",
     "text": [
      "1.4721236959919612\n",
      "1.4458840821743413\n"
     ]
    },
    {
     "data": {
      "text/plain": [
       "1.808841988415466e-05"
      ]
     },
     "execution_count": 261,
     "metadata": {},
     "output_type": "execute_result"
    }
   ],
   "source": [
    "tmin  = 0\n",
    "tmax = 10\n",
    "imax = 100000\n",
    "\n",
    "tau = 1.5\n",
    "v = 0.1\n",
    "m = 20.\n",
    "\n",
    "\n",
    "times_array = MC(tmin,tmax,imax)\n",
    "\n",
    "#Estimated tau = average of decay time\n",
    "print(np.mean(times_array))\n",
    "print(np.std(times_array))\n",
    "min(times_array)"
   ]
  },
  {
   "cell_type": "code",
   "execution_count": 262,
   "metadata": {},
   "outputs": [
    {
     "data": {
      "image/png": "[encoded data removed]",
      "text/plain": [
       "<Figure size 432x288 with 1 Axes>"
      ]
     },
     "metadata": {
      "needs_background": "light"
     },
     "output_type": "display_data"
    }
   ],
   "source": [
    "plt.hist(times_array[:], bins = 500)\n",
    "plt.axvline(x=tau, color='r', label='Actual decay time')\n",
    "plt.xlabel(\"times\")\n",
    "plt.ylabel('Probability of decay')\n",
    "plt.show()"
   ]
  },
  {
   "cell_type": "code",
   "execution_count": 234,
   "metadata": {},
   "outputs": [],
   "source": [
    "def PDF_to_min(t, tau, v, m):\n",
    "    return ((1. + v * np.sin(m*t))*np.exp(-t/tau))"
   ]
  },
  {
   "cell_type": "markdown",
   "metadata": {},
   "source": [
    "def minimization_error(times_array, initial_guess):\n",
    "    \n",
    "    def NLL_1(params):\n",
    "        tau, v, m = params\n",
    "        joint_array = []\n",
    "        joint_likelihood = []\n",
    "        \n",
    "        i = 0\n",
    "        for i in range (len(times_array)):\n",
    "            joint_1 = (PDF_to_min(times_array[i], tau, v, m))\n",
    "            joint_array.append(joint_1)\n",
    "        \n",
    "        new_array = np.clip(joint_array, 0.001, 5)\n",
    "        \n",
    "        i = 0\n",
    "        joint_likelihood = -math.log(new_array)\n",
    "        NLL = np.sum(joint_likelihood)\n",
    "        return NLL\n",
    "    \n",
    "    bounds = [(0, 100.), (0, 0.9), (0, 100.)]\n",
    "\n",
    "    \n",
    "    minimizer = minimize(NLL_1, initial_guess, method='L-BFGS-B', bounds=bounds, tol=1e-10)\n",
    "    min_NLL = minimizer.fun\n",
    "    min_params = minimizer.x\n",
    "    #tau1_min = min_params[0]\n",
    "    #tau2_min = min_params[1]\n",
    "    #F_min = min_params[2]\n",
    "    print('\\n The minimum value of NLL is: ' +str(min_NLL))\n",
    "    print('\\n At the minumum NLL the estimated parameters tau1, tau2 and F are: \\n' +str(min_params))\n"
   ]
  },
  {
   "cell_type": "code",
   "execution_count": 236,
   "metadata": {},
   "outputs": [],
   "source": [
    "def minimization_error(times_array, initial_guess):\n",
    "    \n",
    "    def NLL_1(params):\n",
    "        tau, v, m = params\n",
    "        joint_1 = (PDF_to_min(np.array(times_array), tau, v, m))\n",
    "        joint_2 = np.clip(joint_1, 0.0000001, np.inf)\n",
    "        joint_likelihood = -np.log(joint_2)\n",
    "        NLL = np.sum(joint_likelihood)\n",
    "        return NLL\n",
    "    \n",
    "    bounds = [(1., 2.), (0, 0.99), (10, 30.)]\n",
    "\n",
    "    \n",
    "    minimizer = minimize(NLL_1, initial_guess, bounds=bounds)\n",
    "    min_NLL = minimizer.fun\n",
    "    min_params = minimizer.x\n",
    "    #tau1_min = min_params[0]\n",
    "    #tau2_min = min_params[1]\n",
    "    #F_min = min_params[2]\n",
    "    print('\\n The minimum value of NLL is: ' +str(min_NLL))\n",
    "    print('\\n At the minumum NLL the estimated parameters tau, v, m are: \\n' +str(min_params))\n",
    "\n",
    "        "
   ]
  },
  {
   "cell_type": "code",
   "execution_count": 237,
   "metadata": {
    "scrolled": false
   },
   "outputs": [
    {
     "name": "stdout",
     "output_type": "stream",
     "text": [
      "\n",
      " The minimum value of NLL is: 74059.89554960125\n",
      "\n",
      " At the minumum NLL the estimated parameters tau, v, m are: \n",
      "[ 2.          0.16796228 20.00201667]\n"
     ]
    }
   ],
   "source": [
    "#REPEAT 10 times and look for distribution\n",
    "initial_guess = [1.5, 0.1, 20.]\n",
    "minimization_error(times_array, initial_guess)"
   ]
  },
  {
   "cell_type": "markdown",
   "metadata": {},
   "source": [
    "params = [1.5, 0.1, 20.]\n",
    "def NLL_1(params):\n",
    "    v, m, tau = params\n",
    "    joint_1 = (PDF_to_min(np.array(times_array), v, m, tau))\n",
    "    joint_2 = np.clip(joint_1, 0.0000001, 5)\n",
    "    joint_likelihood = -np.log(joint_2)\n",
    "    NLL = np.sum(joint_likelihood)\n",
    "    return NLL\n",
    "\n",
    "\n",
    "# Create Minuit instance with desired minimisation objective, initial parameter values, etc.\n",
    "m = Minuit(NLL_1, tau = 1.5, v = 0.1 , m = 20, tau_err = 5., v_err = 0.1, m_err = 10.)\n",
    "\n",
    "# Perform fit\n",
    "m.migrad()\n",
    "\n",
    "# Estimate/refine error matrix\n",
    "m.hesse()   \n",
    "\n",
    "# Get best-fit parameter values\n",
    "params = m.values.values()"
   ]
  },
  {
   "cell_type": "markdown",
   "metadata": {},
   "source": [
    "# Part 2"
   ]
  },
  {
   "cell_type": "code",
   "execution_count": 163,
   "metadata": {},
   "outputs": [],
   "source": [
    "#PASS THROUGH MINIMISER AGAIN\n",
    "def time_bias(f):\n",
    "    sigma = f* tau\n",
    "    t_measured = np.random.normal(np.array(times_array), sigma)\n",
    "    \n",
    "    print(np.mean(t_measured))\n",
    "\n",
    "    \n",
    "    plt.hist(t_measured[:], bins = 500)\n",
    "    plt.xlabel(\"times\")\n",
    "    plt.ylabel('Probability of decay')\n",
    "    plt.show()\n",
    "    return t_measured"
   ]
  },
  {
   "cell_type": "code",
   "execution_count": 189,
   "metadata": {},
   "outputs": [
    {
     "name": "stdout",
     "output_type": "stream",
     "text": [
      "1.3095775309377042\n"
     ]
    },
    {
     "data": {
      "image/png": "[encoded data removed]",
      "text/plain": [
       "<Figure size 432x288 with 1 Axes>"
      ]
     },
     "metadata": {
      "needs_background": "light"
     },
     "output_type": "display_data"
    },
    {
     "name": "stdout",
     "output_type": "stream",
     "text": [
      "[0.39242309 1.15168765 0.39164898 ... 4.83441641 3.05795931 2.71461433]\n"
     ]
    }
   ],
   "source": [
    "t_measured = time_bias(0.01)\n",
    "print(t_measured)"
   ]
  },
  {
   "cell_type": "code",
   "execution_count": 166,
   "metadata": {},
   "outputs": [],
   "source": [
    "#Try and fit these new T measured values to try and determine the params."
   ]
  },
  {
   "cell_type": "code",
   "execution_count": 167,
   "metadata": {},
   "outputs": [
    {
     "name": "stdout",
     "output_type": "stream",
     "text": [
      "\n",
      " The minimum value of NLL is: 65281.93673549822\n",
      "\n",
      " At the minumum NLL the estimated parameters tau, v, m are: \n",
      "[ 2.          0.08832894 16.86657212]\n"
     ]
    }
   ],
   "source": [
    "initial_guess = [1.5, 0.1, 20.]\n",
    "minimization_error(t_measured, initial_guess)"
   ]
  },
  {
   "cell_type": "markdown",
   "metadata": {},
   "source": [
    "# Part 3"
   ]
  },
  {
   "cell_type": "code",
   "execution_count": 252,
   "metadata": {},
   "outputs": [],
   "source": [
    "#PASS THROUGH BOX METHOD\n",
    "\n",
    "\n",
    "def a(s, t):\n",
    "    return (1.+s*PDF_norm(t))\n",
    "\n",
    "    \n"
   ]
  },
  {
   "cell_type": "code",
   "execution_count": null,
   "metadata": {},
   "outputs": [],
   "source": []
  },
  {
   "cell_type": "code",
   "execution_count": 256,
   "metadata": {},
   "outputs": [],
   "source": [
    "def MC(tmin,tmax,imax):#,vmin,vmax):\n",
    "    ymax = 1.1\n",
    "    times_array = []\n",
    "    #estim_v_array = []\n",
    "    \n",
    "    t = [np.random.uniform(tmin,tmax) for _ in range(imax)]\n",
    "    #estim_v = [np.random.uniform(vmin,vmax) for _ in range(imax)]\n",
    "    \n",
    "    y1 = np.zeros(imax)\n",
    "    y2 = np.zeros(imax)\n",
    "    for i in range(imax):\n",
    "        y1[i] = a(0.3, t[i])\n",
    "        y2[i] = ymax*np.random.uniform()\n",
    "\n",
    "    i = 0\n",
    "    j = 0\n",
    "    while i < (imax):\n",
    "        while j < (imax):\n",
    "            if (y2[i]<y1[j]):\n",
    "                #print(i,j)\n",
    "                times_array.append(t[i])\n",
    "                #estim_v_array.append(estim_v[i])\n",
    "                i = i + 1\n",
    "                j = j + 1\n",
    "            \n",
    "            else:\n",
    "                t[i] = np.random.uniform(tmin, tmax)\n",
    "                #estim_v[i] = np.random.uniform(vmin,vmax)\n",
    "                y1[i] = a(0.3,t[i])\n",
    "                y2[i] = ymax*np.random.uniform()\n",
    "                i = i\n",
    "                j = j\n",
    "    \n",
    "    return times_array#, estim_v_array\n",
    "    "
   ]
  },
  {
   "cell_type": "code",
   "execution_count": 257,
   "metadata": {},
   "outputs": [],
   "source": [
    "times_array = MC(tmin,tmax,imax)\n"
   ]
  },
  {
   "cell_type": "code",
   "execution_count": 258,
   "metadata": {},
   "outputs": [
    {
     "data": {
      "image/png": "[encoded data removed]",
      "text/plain": [
       "<Figure size 432x288 with 1 Axes>"
      ]
     },
     "metadata": {
      "needs_background": "light"
     },
     "output_type": "display_data"
    }
   ],
   "source": [
    "plt.hist(times_array[:], bins = 500)\n",
    "plt.axvline(x=tau, color='r', label='Actual decay time')\n",
    "plt.xlabel(\"times\")\n",
    "plt.ylabel('Probability of decay')\n",
    "plt.show()"
   ]
  },
  {
   "cell_type": "code",
   "execution_count": null,
   "metadata": {},
   "outputs": [],
   "source": []
  }
 ],
 "metadata": {
  "kernelspec": {
   "display_name": "Python 2",
   "language": "python",
   "name": "python2"
  },
  "language_info": {
   "codemirror_mode": {
    "name": "ipython",
    "version": 2
   },
   "file_extension": ".py",
   "mimetype": "text/x-python",
   "name": "python",
   "nbconvert_exporter": "python",
   "pygments_lexer": "ipython2",
   "version": "2.7.5"
  }
 },
 "nbformat": 4,
 "nbformat_minor": 2
}
